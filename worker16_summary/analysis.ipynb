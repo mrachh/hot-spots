{
 "cells": [
  {
   "cell_type": "code",
   "execution_count": 1,
   "id": "6fc6b75e",
   "metadata": {},
   "outputs": [],
   "source": [
    "import numpy as np\n",
    "import pandas as pd\n",
    "from matplotlib import pyplot as plt\n",
    "from scipy.io import loadmat\n",
    "%matplotlib inline"
   ]
  },
  {
   "cell_type": "code",
   "execution_count": 2,
   "id": "f9484edd",
   "metadata": {},
   "outputs": [],
   "source": [
    "df = pd.read_csv('crit_pt.csv')"
   ]
  },
  {
   "cell_type": "code",
   "execution_count": 3,
   "id": "9e05ca84",
   "metadata": {},
   "outputs": [],
   "source": [
    "df = df[df.d==2]"
   ]
  },
  {
   "cell_type": "code",
   "execution_count": null,
   "id": "9e555749",
   "metadata": {},
   "outputs": [],
   "source": [
    "df['']"
   ]
  },
  {
   "cell_type": "markdown",
   "id": "3e9174f6",
   "metadata": {},
   "source": [
    "Experimented with function $v(\\phi):=(\\phi-\\pi/2)^d$"
   ]
  },
  {
   "cell_type": "code",
   "execution_count": 7,
   "id": "125b8616",
   "metadata": {},
   "outputs": [
    {
     "data": {
      "text/html": [
       "<div>\n",
       "<style scoped>\n",
       "    .dataframe tbody tr th:only-of-type {\n",
       "        vertical-align: middle;\n",
       "    }\n",
       "\n",
       "    .dataframe tbody tr th {\n",
       "        vertical-align: top;\n",
       "    }\n",
       "\n",
       "    .dataframe thead th {\n",
       "        text-align: right;\n",
       "    }\n",
       "</style>\n",
       "<table border=\"1\" class=\"dataframe\">\n",
       "  <thead>\n",
       "    <tr style=\"text-align: right;\">\n",
       "      <th></th>\n",
       "      <th>Unnamed: 0</th>\n",
       "      <th>Unnamed: 0.1</th>\n",
       "      <th>d</th>\n",
       "      <th>eps</th>\n",
       "      <th>loss</th>\n",
       "      <th>npoint</th>\n",
       "      <th>uq</th>\n",
       "      <th>zk</th>\n",
       "      <th>ud_p</th>\n",
       "      <th>e_val</th>\n",
       "      <th>normalized_grad</th>\n",
       "    </tr>\n",
       "  </thead>\n",
       "  <tbody>\n",
       "    <tr>\n",
       "      <th>21</th>\n",
       "      <td>21</td>\n",
       "      <td>21</td>\n",
       "      <td>2</td>\n",
       "      <td>0.0000</td>\n",
       "      <td>-0.365584</td>\n",
       "      <td>16</td>\n",
       "      <td>0.019385</td>\n",
       "      <td>3.846108</td>\n",
       "      <td>0.104832</td>\n",
       "      <td>14.792547</td>\n",
       "      <td>5.407916</td>\n",
       "    </tr>\n",
       "    <tr>\n",
       "      <th>22</th>\n",
       "      <td>22</td>\n",
       "      <td>22</td>\n",
       "      <td>2</td>\n",
       "      <td>0.0000</td>\n",
       "      <td>-0.365584</td>\n",
       "      <td>64</td>\n",
       "      <td>0.009746</td>\n",
       "      <td>3.832505</td>\n",
       "      <td>0.052336</td>\n",
       "      <td>14.688098</td>\n",
       "      <td>5.369734</td>\n",
       "    </tr>\n",
       "    <tr>\n",
       "      <th>23</th>\n",
       "      <td>23</td>\n",
       "      <td>23</td>\n",
       "      <td>2</td>\n",
       "      <td>0.0000</td>\n",
       "      <td>-0.365584</td>\n",
       "      <td>256</td>\n",
       "      <td>0.004966</td>\n",
       "      <td>3.831755</td>\n",
       "      <td>0.026657</td>\n",
       "      <td>14.682343</td>\n",
       "      <td>5.367630</td>\n",
       "    </tr>\n",
       "    <tr>\n",
       "      <th>24</th>\n",
       "      <td>24</td>\n",
       "      <td>24</td>\n",
       "      <td>2</td>\n",
       "      <td>0.0050</td>\n",
       "      <td>-0.365580</td>\n",
       "      <td>16</td>\n",
       "      <td>0.019190</td>\n",
       "      <td>3.839789</td>\n",
       "      <td>0.103435</td>\n",
       "      <td>14.743979</td>\n",
       "      <td>5.390101</td>\n",
       "    </tr>\n",
       "    <tr>\n",
       "      <th>25</th>\n",
       "      <td>25</td>\n",
       "      <td>25</td>\n",
       "      <td>2</td>\n",
       "      <td>0.0050</td>\n",
       "      <td>-0.365580</td>\n",
       "      <td>64</td>\n",
       "      <td>0.009764</td>\n",
       "      <td>3.826346</td>\n",
       "      <td>0.052263</td>\n",
       "      <td>14.640925</td>\n",
       "      <td>5.352430</td>\n",
       "    </tr>\n",
       "    <tr>\n",
       "      <th>26</th>\n",
       "      <td>26</td>\n",
       "      <td>26</td>\n",
       "      <td>2</td>\n",
       "      <td>0.0050</td>\n",
       "      <td>-0.365580</td>\n",
       "      <td>256</td>\n",
       "      <td>0.004989</td>\n",
       "      <td>3.825604</td>\n",
       "      <td>0.026694</td>\n",
       "      <td>14.635246</td>\n",
       "      <td>5.350355</td>\n",
       "    </tr>\n",
       "    <tr>\n",
       "      <th>27</th>\n",
       "      <td>27</td>\n",
       "      <td>27</td>\n",
       "      <td>2</td>\n",
       "      <td>0.0010</td>\n",
       "      <td>-0.365584</td>\n",
       "      <td>16</td>\n",
       "      <td>0.019229</td>\n",
       "      <td>3.844840</td>\n",
       "      <td>0.103919</td>\n",
       "      <td>14.782791</td>\n",
       "      <td>5.404347</td>\n",
       "    </tr>\n",
       "    <tr>\n",
       "      <th>28</th>\n",
       "      <td>28</td>\n",
       "      <td>28</td>\n",
       "      <td>2</td>\n",
       "      <td>0.0010</td>\n",
       "      <td>-0.365584</td>\n",
       "      <td>64</td>\n",
       "      <td>0.009815</td>\n",
       "      <td>3.831269</td>\n",
       "      <td>0.052669</td>\n",
       "      <td>14.678623</td>\n",
       "      <td>5.366267</td>\n",
       "    </tr>\n",
       "    <tr>\n",
       "      <th>29</th>\n",
       "      <td>29</td>\n",
       "      <td>29</td>\n",
       "      <td>2</td>\n",
       "      <td>0.0010</td>\n",
       "      <td>-0.365584</td>\n",
       "      <td>256</td>\n",
       "      <td>0.004924</td>\n",
       "      <td>3.830520</td>\n",
       "      <td>0.026411</td>\n",
       "      <td>14.672883</td>\n",
       "      <td>5.364172</td>\n",
       "    </tr>\n",
       "    <tr>\n",
       "      <th>30</th>\n",
       "      <td>30</td>\n",
       "      <td>30</td>\n",
       "      <td>2</td>\n",
       "      <td>0.0005</td>\n",
       "      <td>-0.365584</td>\n",
       "      <td>16</td>\n",
       "      <td>0.018468</td>\n",
       "      <td>3.845474</td>\n",
       "      <td>0.099841</td>\n",
       "      <td>14.787667</td>\n",
       "      <td>5.406131</td>\n",
       "    </tr>\n",
       "    <tr>\n",
       "      <th>31</th>\n",
       "      <td>31</td>\n",
       "      <td>31</td>\n",
       "      <td>2</td>\n",
       "      <td>0.0005</td>\n",
       "      <td>-0.365584</td>\n",
       "      <td>64</td>\n",
       "      <td>0.009917</td>\n",
       "      <td>3.831887</td>\n",
       "      <td>0.053237</td>\n",
       "      <td>14.683358</td>\n",
       "      <td>5.368000</td>\n",
       "    </tr>\n",
       "    <tr>\n",
       "      <th>32</th>\n",
       "      <td>32</td>\n",
       "      <td>32</td>\n",
       "      <td>2</td>\n",
       "      <td>0.0005</td>\n",
       "      <td>-0.365584</td>\n",
       "      <td>256</td>\n",
       "      <td>0.004994</td>\n",
       "      <td>3.831137</td>\n",
       "      <td>0.026796</td>\n",
       "      <td>14.677611</td>\n",
       "      <td>5.365900</td>\n",
       "    </tr>\n",
       "    <tr>\n",
       "      <th>33</th>\n",
       "      <td>33</td>\n",
       "      <td>33</td>\n",
       "      <td>2</td>\n",
       "      <td>-0.0050</td>\n",
       "      <td>-0.365580</td>\n",
       "      <td>16</td>\n",
       "      <td>0.019033</td>\n",
       "      <td>3.852487</td>\n",
       "      <td>0.103270</td>\n",
       "      <td>14.841654</td>\n",
       "      <td>5.425808</td>\n",
       "    </tr>\n",
       "    <tr>\n",
       "      <th>34</th>\n",
       "      <td>34</td>\n",
       "      <td>34</td>\n",
       "      <td>2</td>\n",
       "      <td>-0.0050</td>\n",
       "      <td>-0.365580</td>\n",
       "      <td>64</td>\n",
       "      <td>0.009860</td>\n",
       "      <td>3.838721</td>\n",
       "      <td>0.053118</td>\n",
       "      <td>14.735781</td>\n",
       "      <td>5.387106</td>\n",
       "    </tr>\n",
       "    <tr>\n",
       "      <th>35</th>\n",
       "      <td>35</td>\n",
       "      <td>35</td>\n",
       "      <td>2</td>\n",
       "      <td>-0.0050</td>\n",
       "      <td>-0.365580</td>\n",
       "      <td>256</td>\n",
       "      <td>0.004954</td>\n",
       "      <td>3.837962</td>\n",
       "      <td>0.026678</td>\n",
       "      <td>14.729949</td>\n",
       "      <td>5.384973</td>\n",
       "    </tr>\n",
       "    <tr>\n",
       "      <th>36</th>\n",
       "      <td>36</td>\n",
       "      <td>36</td>\n",
       "      <td>2</td>\n",
       "      <td>-0.0010</td>\n",
       "      <td>-0.365584</td>\n",
       "      <td>16</td>\n",
       "      <td>0.019139</td>\n",
       "      <td>3.847379</td>\n",
       "      <td>0.103570</td>\n",
       "      <td>14.802325</td>\n",
       "      <td>5.411488</td>\n",
       "    </tr>\n",
       "    <tr>\n",
       "      <th>37</th>\n",
       "      <td>37</td>\n",
       "      <td>37</td>\n",
       "      <td>2</td>\n",
       "      <td>-0.0010</td>\n",
       "      <td>-0.365584</td>\n",
       "      <td>64</td>\n",
       "      <td>0.009731</td>\n",
       "      <td>3.833744</td>\n",
       "      <td>0.052285</td>\n",
       "      <td>14.697593</td>\n",
       "      <td>5.373203</td>\n",
       "    </tr>\n",
       "    <tr>\n",
       "      <th>38</th>\n",
       "      <td>38</td>\n",
       "      <td>38</td>\n",
       "      <td>2</td>\n",
       "      <td>-0.0010</td>\n",
       "      <td>-0.365584</td>\n",
       "      <td>256</td>\n",
       "      <td>0.004957</td>\n",
       "      <td>3.832991</td>\n",
       "      <td>0.026626</td>\n",
       "      <td>14.691823</td>\n",
       "      <td>5.371094</td>\n",
       "    </tr>\n",
       "    <tr>\n",
       "      <th>39</th>\n",
       "      <td>39</td>\n",
       "      <td>39</td>\n",
       "      <td>2</td>\n",
       "      <td>-0.0005</td>\n",
       "      <td>-0.365584</td>\n",
       "      <td>16</td>\n",
       "      <td>0.018973</td>\n",
       "      <td>3.846743</td>\n",
       "      <td>0.102636</td>\n",
       "      <td>14.797434</td>\n",
       "      <td>5.409702</td>\n",
       "    </tr>\n",
       "    <tr>\n",
       "      <th>40</th>\n",
       "      <td>40</td>\n",
       "      <td>40</td>\n",
       "      <td>2</td>\n",
       "      <td>-0.0005</td>\n",
       "      <td>-0.365584</td>\n",
       "      <td>64</td>\n",
       "      <td>0.009868</td>\n",
       "      <td>3.833124</td>\n",
       "      <td>0.053005</td>\n",
       "      <td>14.692843</td>\n",
       "      <td>5.371468</td>\n",
       "    </tr>\n",
       "    <tr>\n",
       "      <th>41</th>\n",
       "      <td>41</td>\n",
       "      <td>41</td>\n",
       "      <td>2</td>\n",
       "      <td>-0.0005</td>\n",
       "      <td>-0.365584</td>\n",
       "      <td>256</td>\n",
       "      <td>0.004929</td>\n",
       "      <td>3.832373</td>\n",
       "      <td>0.026464</td>\n",
       "      <td>14.687080</td>\n",
       "      <td>5.369362</td>\n",
       "    </tr>\n",
       "  </tbody>\n",
       "</table>\n",
       "</div>"
      ],
      "text/plain": [
       "    Unnamed: 0  Unnamed: 0.1  d     eps      loss  npoint        uq        zk  \\\n",
       "21          21            21  2  0.0000 -0.365584      16  0.019385  3.846108   \n",
       "22          22            22  2  0.0000 -0.365584      64  0.009746  3.832505   \n",
       "23          23            23  2  0.0000 -0.365584     256  0.004966  3.831755   \n",
       "24          24            24  2  0.0050 -0.365580      16  0.019190  3.839789   \n",
       "25          25            25  2  0.0050 -0.365580      64  0.009764  3.826346   \n",
       "26          26            26  2  0.0050 -0.365580     256  0.004989  3.825604   \n",
       "27          27            27  2  0.0010 -0.365584      16  0.019229  3.844840   \n",
       "28          28            28  2  0.0010 -0.365584      64  0.009815  3.831269   \n",
       "29          29            29  2  0.0010 -0.365584     256  0.004924  3.830520   \n",
       "30          30            30  2  0.0005 -0.365584      16  0.018468  3.845474   \n",
       "31          31            31  2  0.0005 -0.365584      64  0.009917  3.831887   \n",
       "32          32            32  2  0.0005 -0.365584     256  0.004994  3.831137   \n",
       "33          33            33  2 -0.0050 -0.365580      16  0.019033  3.852487   \n",
       "34          34            34  2 -0.0050 -0.365580      64  0.009860  3.838721   \n",
       "35          35            35  2 -0.0050 -0.365580     256  0.004954  3.837962   \n",
       "36          36            36  2 -0.0010 -0.365584      16  0.019139  3.847379   \n",
       "37          37            37  2 -0.0010 -0.365584      64  0.009731  3.833744   \n",
       "38          38            38  2 -0.0010 -0.365584     256  0.004957  3.832991   \n",
       "39          39            39  2 -0.0005 -0.365584      16  0.018973  3.846743   \n",
       "40          40            40  2 -0.0005 -0.365584      64  0.009868  3.833124   \n",
       "41          41            41  2 -0.0005 -0.365584     256  0.004929  3.832373   \n",
       "\n",
       "        ud_p      e_val  normalized_grad  \n",
       "21  0.104832  14.792547         5.407916  \n",
       "22  0.052336  14.688098         5.369734  \n",
       "23  0.026657  14.682343         5.367630  \n",
       "24  0.103435  14.743979         5.390101  \n",
       "25  0.052263  14.640925         5.352430  \n",
       "26  0.026694  14.635246         5.350355  \n",
       "27  0.103919  14.782791         5.404347  \n",
       "28  0.052669  14.678623         5.366267  \n",
       "29  0.026411  14.672883         5.364172  \n",
       "30  0.099841  14.787667         5.406131  \n",
       "31  0.053237  14.683358         5.368000  \n",
       "32  0.026796  14.677611         5.365900  \n",
       "33  0.103270  14.841654         5.425808  \n",
       "34  0.053118  14.735781         5.387106  \n",
       "35  0.026678  14.729949         5.384973  \n",
       "36  0.103570  14.802325         5.411488  \n",
       "37  0.052285  14.697593         5.373203  \n",
       "38  0.026626  14.691823         5.371094  \n",
       "39  0.102636  14.797434         5.409702  \n",
       "40  0.053005  14.692843         5.371468  \n",
       "41  0.026464  14.687080         5.369362  "
      ]
     },
     "execution_count": 7,
     "metadata": {},
     "output_type": "execute_result"
    }
   ],
   "source": [
    "df['grad_normalized'] = df.normalized_grad"
   ]
  },
  {
   "cell_type": "code",
   "execution_count": 23,
   "id": "b5cd3878",
   "metadata": {},
   "outputs": [
    {
     "name": "stdout",
     "output_type": "stream",
     "text": [
      "-7.965774617701982e-06\n"
     ]
    }
   ],
   "source": [
    "#computes the derivative using centered diff\n",
    "\n",
    "h = 5e-3\n",
    "n = 16\n",
    "targ = 'loss'\n",
    "\n",
    "rh = df[(df.npoint==n)&(df.eps==h)][targ].item()\n",
    "lh = df[(df.npoint==n)&(df.eps==-h)][targ].item()\n",
    "\n",
    "res = (rh - lh) / (2*h)\n",
    "print(res)"
   ]
  },
  {
   "cell_type": "markdown",
   "id": "0d5a94b9",
   "metadata": {},
   "source": [
    "When $d=2$, $F(v) = \\frac{1}{24} \\pi  \\left(\\pi ^2-6\\right) = 0.5065300316150443$.\n",
    "Recall that $\\partial_\\Omega\\lambda\\approx \\Xi F(v) = 18.69366561619284 \\; F(v) =$"
   ]
  },
  {
   "cell_type": "code",
   "execution_count": 37,
   "id": "38977117",
   "metadata": {},
   "outputs": [
    {
     "data": {
      "text/plain": [
       "9.468903035571225"
      ]
     },
     "execution_count": 37,
     "metadata": {},
     "output_type": "execute_result"
    }
   ],
   "source": [
    "18.69366561619284*0.5065300316150443"
   ]
  },
  {
   "cell_type": "code",
   "execution_count": 44,
   "id": "8c53047f",
   "metadata": {},
   "outputs": [
    {
     "name": "stdout",
     "output_type": "stream",
     "text": [
      "n=16:-9.7674820540788687 at h=0.0050000000000000\n",
      "n=64:-9.4855820004557501 at h=0.0050000000000000\n",
      "n=256:-9.4702918315412887 at h=0.0050000000000000\n"
     ]
    },
    {
     "data": {
      "image/png": "[encoded data removed]",
      "text/plain": [
       "<Figure size 720x432 with 1 Axes>"
      ]
     },
     "metadata": {
      "needs_background": "light"
     },
     "output_type": "display_data"
    }
   ],
   "source": [
    "targ = 'e_val'\n",
    "ns = [16, 64, 256]\n",
    "plt.figure(figsize = (10, 6))\n",
    "show = 0\n",
    "\n",
    "for n in ns:\n",
    "    hs = [5e-3, 1e-3, 5e-4]\n",
    "    res = [0] * len(hs)\n",
    "\n",
    "    for i,h in enumerate(hs):\n",
    "        rh = df[(df.npoint==n)&(df.eps==h)][targ].item()\n",
    "        lh = df[(df.npoint==n)&(df.eps==-h)][targ].item()\n",
    "\n",
    "        res[i] = (rh - lh) / (2*h)\n",
    "\n",
    "    plt.scatter(hs, res)\n",
    "    plt.plot(hs, res, label = str(n))\n",
    "    \n",
    "    print('n=%d:%.16f at h=%.16f'%(n,res[show],hs[show]))\n",
    "\n",
    "plt.legend()\n",
    "plt.xscale('log')\n"
   ]
  },
  {
   "cell_type": "markdown",
   "id": "efa524ce",
   "metadata": {},
   "source": [
    "$\\partial_\\Omega(g/n)=?\\frac{g_1}{n_0} = F(v)\\;1.428606389580631/0.3569362209506843 = $"
   ]
  },
  {
   "cell_type": "code",
   "execution_count": 1,
   "id": "cb15f0ec",
   "metadata": {},
   "outputs": [
    {
     "data": {
      "text/plain": [
       "2.0273426937517534"
      ]
     },
     "execution_count": 1,
     "metadata": {},
     "output_type": "execute_result"
    }
   ],
   "source": [
    "0.5065300316150443 * 1.428606389580631/0.3569362209506843"
   ]
  },
  {
   "cell_type": "code",
   "execution_count": 5,
   "id": "4b3a4083",
   "metadata": {},
   "outputs": [
    {
     "name": "stdout",
     "output_type": "stream",
     "text": [
      "n=16:-3.5706734491203207 at h=0.0010000000000000\n",
      "n=64:-3.4676726820013215 at h=0.0010000000000000\n",
      "n=256:-3.4609229180766476 at h=0.0010000000000000\n"
     ]
    },
    {
     "data": {
      "image/png": "[encoded data removed]",
      "text/plain": [
       "<Figure size 720x432 with 1 Axes>"
      ]
     },
     "metadata": {
      "needs_background": "light"
     },
     "output_type": "display_data"
    }
   ],
   "source": [
    "targ = 'normalized_grad'\n",
    "ns = [16, 64, 256]\n",
    "plt.figure(figsize = (10, 6))\n",
    "show = 1\n",
    "\n",
    "for n in ns:\n",
    "    hs = [5e-3, 1e-3, 5e-4]\n",
    "    res = [0] * len(hs)\n",
    "\n",
    "    for i,h in enumerate(hs):\n",
    "        rh = df[(df.npoint==n)&(df.eps==h)][targ].item()\n",
    "        lh = df[(df.npoint==n)&(df.eps==-h)][targ].item()\n",
    "\n",
    "        res[i] = (rh - lh) / (2*h)\n",
    "\n",
    "    plt.scatter(hs, res)\n",
    "    plt.plot(hs, res, label = str(n))\n",
    "    \n",
    "    print('n=%d:%.16f at h=%.16f'%(n,res[show],hs[show]))\n",
    "\n",
    "plt.legend()\n",
    "plt.xscale('log')\n"
   ]
  },
  {
   "cell_type": "code",
   "execution_count": 48,
   "id": "7307858c",
   "metadata": {},
   "outputs": [
    {
     "name": "stdout",
     "output_type": "stream",
     "text": [
      "n=16:0.0449814248755006 at h=0.0010000000000000\n",
      "n=64:0.0420361139769993 at h=0.0010000000000000\n",
      "n=256:-0.0168919007985002 at h=0.0010000000000000\n"
     ]
    },
    {
     "data": {
      "image/png": "[encoded data removed]",
      "text/plain": [
       "<Figure size 720x432 with 1 Axes>"
      ]
     },
     "metadata": {
      "needs_background": "light"
     },
     "output_type": "display_data"
    }
   ],
   "source": [
    "targ = 'uq'\n",
    "ns = [16, 64, 256]\n",
    "plt.figure(figsize = (10, 6))\n",
    "show = 1\n",
    "\n",
    "for n in ns:\n",
    "    hs = [5e-3, 1e-3, 5e-4]\n",
    "    res = [0] * len(hs)\n",
    "\n",
    "    for i,h in enumerate(hs):\n",
    "        rh = df[(df.npoint==n)&(df.eps==h)][targ].item()\n",
    "        lh = df[(df.npoint==n)&(df.eps==-h)][targ].item()\n",
    "\n",
    "        res[i] = (rh - lh) / (2*h)\n",
    "\n",
    "    plt.scatter(hs, res)\n",
    "    plt.plot(hs, res, label = str(n))\n",
    "    \n",
    "    print('n=%d:%.16f at h=%.16f'%(n,res[show],hs[show]))\n",
    "\n",
    "plt.legend()\n",
    "plt.xscale('log')\n"
   ]
  },
  {
   "cell_type": "markdown",
   "id": "8c3999d4",
   "metadata": {},
   "source": [
    "gradient term: $1.428606389580631 F(v)$\n",
    "\n",
    "$g_1/n_0$ = $1.428606389580631 F(v)/0.3569362209506843 = 4.002413612649339F(v)$"
   ]
  },
  {
   "cell_type": "code",
   "execution_count": 51,
   "id": "1e1a9346",
   "metadata": {},
   "outputs": [
    {
     "data": {
      "text/plain": [
       "0.7236320396797312"
      ]
     },
     "execution_count": 51,
     "metadata": {},
     "output_type": "execute_result"
    }
   ],
   "source": [
    "1.428606389580631*0.5065300316150443"
   ]
  },
  {
   "cell_type": "code",
   "execution_count": 58,
   "id": "6dc9714d",
   "metadata": {},
   "outputs": [
    {
     "data": {
      "text/plain": [
       "0.010068564491866584"
      ]
     },
     "execution_count": 58,
     "metadata": {},
     "output_type": "execute_result"
    }
   ],
   "source": [
    "1.428606389580631*0.5065300316150443*0.013913928543466346"
   ]
  },
  {
   "cell_type": "code",
   "execution_count": 49,
   "id": "3ac963bb",
   "metadata": {},
   "outputs": [
    {
     "name": "stdout",
     "output_type": "stream",
     "text": [
      "n=16:0.1747564593555032 at h=0.0010000000000000\n",
      "n=64:0.1918339156440005 at h=0.0010000000000000\n",
      "n=256:-0.1077679071440005 at h=0.0010000000000000\n"
     ]
    },
    {
     "data": {
      "image/png": "[encoded data removed]",
      "text/plain": [
       "<Figure size 720x432 with 1 Axes>"
      ]
     },
     "metadata": {
      "needs_background": "light"
     },
     "output_type": "display_data"
    }
   ],
   "source": [
    "targ = 'ud_p'\n",
    "ns = [16, 64, 256]\n",
    "plt.figure(figsize = (10, 6))\n",
    "show = 1\n",
    "\n",
    "for n in ns:\n",
    "    hs = [5e-3, 1e-3, 5e-4]\n",
    "    res = [0] * len(hs)\n",
    "\n",
    "    for i,h in enumerate(hs):\n",
    "        rh = df[(df.npoint==n)&(df.eps==h)][targ].item()\n",
    "        lh = df[(df.npoint==n)&(df.eps==-h)][targ].item()\n",
    "\n",
    "        res[i] = (rh - lh) / (2*h)\n",
    "\n",
    "    plt.scatter(hs, res)\n",
    "    plt.plot(hs, res, label = str(n))\n",
    "    \n",
    "    print('n=%d:%.16f at h=%.16f'%(n,res[show],hs[show]))\n",
    "\n",
    "plt.legend()\n",
    "plt.xscale('log')\n"
   ]
  },
  {
   "cell_type": "code",
   "execution_count": 52,
   "id": "5c148642",
   "metadata": {},
   "outputs": [
    {
     "name": "stdout",
     "output_type": "stream",
     "text": [
      "n=16:-0.0000079657746177 at h=0.0050000000000000\n",
      "n=64:-0.0000085785102910 at h=0.0050000000000000\n",
      "n=256:-0.0000264522161897 at h=0.0050000000000000\n"
     ]
    },
    {
     "data": {
      "image/png": "[encoded data removed]",
      "text/plain": [
       "<Figure size 720x432 with 1 Axes>"
      ]
     },
     "metadata": {
      "needs_background": "light"
     },
     "output_type": "display_data"
    }
   ],
   "source": [
    "targ = 'loss'\n",
    "ns = [16, 64, 256]\n",
    "plt.figure(figsize = (10, 6))\n",
    "show = 0\n",
    "\n",
    "for n in ns:\n",
    "    hs = [5e-3, 1e-3, 5e-4]\n",
    "    res = [0] * len(hs)\n",
    "\n",
    "    for i,h in enumerate(hs):\n",
    "        rh = df[(df.npoint==n)&(df.eps==h)][targ].item()\n",
    "        lh = df[(df.npoint==n)&(df.eps==-h)][targ].item()\n",
    "\n",
    "        res[i] = (rh - lh) / (2*h)\n",
    "\n",
    "    plt.scatter(hs, res)\n",
    "    plt.plot(hs, res, label = str(n))\n",
    "    \n",
    "    print('n=%d:%.16f at h=%.16f'%(n,res[show],hs[show]))\n",
    "\n",
    "plt.legend()\n",
    "plt.xscale('log')\n"
   ]
  },
  {
   "cell_type": "code",
   "execution_count": 53,
   "id": "8bf60cbe",
   "metadata": {},
   "outputs": [
    {
     "data": {
      "text/html": [
       "<div>\n",
       "<style scoped>\n",
       "    .dataframe tbody tr th:only-of-type {\n",
       "        vertical-align: middle;\n",
       "    }\n",
       "\n",
       "    .dataframe tbody tr th {\n",
       "        vertical-align: top;\n",
       "    }\n",
       "\n",
       "    .dataframe thead th {\n",
       "        text-align: right;\n",
       "    }\n",
       "</style>\n",
       "<table border=\"1\" class=\"dataframe\">\n",
       "  <thead>\n",
       "    <tr style=\"text-align: right;\">\n",
       "      <th></th>\n",
       "      <th>Unnamed: 0</th>\n",
       "      <th>d</th>\n",
       "      <th>eps</th>\n",
       "      <th>loss</th>\n",
       "      <th>npoint</th>\n",
       "      <th>uq</th>\n",
       "      <th>zk</th>\n",
       "      <th>ud_p</th>\n",
       "      <th>e_val</th>\n",
       "    </tr>\n",
       "  </thead>\n",
       "  <tbody>\n",
       "    <tr>\n",
       "      <th>21</th>\n",
       "      <td>21</td>\n",
       "      <td>2</td>\n",
       "      <td>0.0</td>\n",
       "      <td>-0.365584</td>\n",
       "      <td>16</td>\n",
       "      <td>0.019385</td>\n",
       "      <td>3.846108</td>\n",
       "      <td>0.104832</td>\n",
       "      <td>14.792547</td>\n",
       "    </tr>\n",
       "    <tr>\n",
       "      <th>22</th>\n",
       "      <td>22</td>\n",
       "      <td>2</td>\n",
       "      <td>0.0</td>\n",
       "      <td>-0.365584</td>\n",
       "      <td>64</td>\n",
       "      <td>0.009746</td>\n",
       "      <td>3.832505</td>\n",
       "      <td>0.052336</td>\n",
       "      <td>14.688098</td>\n",
       "    </tr>\n",
       "    <tr>\n",
       "      <th>23</th>\n",
       "      <td>23</td>\n",
       "      <td>2</td>\n",
       "      <td>0.0</td>\n",
       "      <td>-0.365584</td>\n",
       "      <td>256</td>\n",
       "      <td>0.004966</td>\n",
       "      <td>3.831755</td>\n",
       "      <td>0.026657</td>\n",
       "      <td>14.682343</td>\n",
       "    </tr>\n",
       "  </tbody>\n",
       "</table>\n",
       "</div>"
      ],
      "text/plain": [
       "    Unnamed: 0  d  eps      loss  npoint        uq        zk      ud_p  \\\n",
       "21          21  2  0.0 -0.365584      16  0.019385  3.846108  0.104832   \n",
       "22          22  2  0.0 -0.365584      64  0.009746  3.832505  0.052336   \n",
       "23          23  2  0.0 -0.365584     256  0.004966  3.831755  0.026657   \n",
       "\n",
       "        e_val  \n",
       "21  14.792547  \n",
       "22  14.688098  \n",
       "23  14.682343  "
      ]
     },
     "execution_count": 53,
     "metadata": {},
     "output_type": "execute_result"
    }
   ],
   "source": [
    "df[df.eps==0]"
   ]
  },
  {
   "cell_type": "code",
   "execution_count": 54,
   "id": "bfa16040",
   "metadata": {},
   "outputs": [
    {
     "data": {
      "text/plain": [
       "0.013913928543466346"
      ]
     },
     "execution_count": 54,
     "metadata": {},
     "output_type": "execute_result"
    }
   ],
   "source": [
    "0.026657/(1.91585)"
   ]
  },
  {
   "cell_type": "code",
   "execution_count": 57,
   "id": "0c97a482",
   "metadata": {},
   "outputs": [
    {
     "data": {
      "text/plain": [
       "-0.013912858327543314"
      ]
     },
     "execution_count": 57,
     "metadata": {},
     "output_type": "execute_result"
    }
   ],
   "source": [
    "0.004966/-0.356936"
   ]
  },
  {
   "cell_type": "code",
   "execution_count": null,
   "id": "6c030171",
   "metadata": {},
   "outputs": [],
   "source": []
  }
 ],
 "metadata": {
  "kernelspec": {
   "display_name": "Python 3",
   "language": "python",
   "name": "python3"
  },
  "language_info": {
   "codemirror_mode": {
    "name": "ipython",
    "version": 3
   },
   "file_extension": ".py",
   "mimetype": "text/x-python",
   "name": "python",
   "nbconvert_exporter": "python",
   "pygments_lexer": "ipython3",
   "version": "3.8.10"
  }
 },
 "nbformat": 4,
 "nbformat_minor": 5
}
